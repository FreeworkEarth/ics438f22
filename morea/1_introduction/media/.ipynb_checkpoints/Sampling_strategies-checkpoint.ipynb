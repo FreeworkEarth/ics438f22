{
 "cells": [
  {
   "cell_type": "markdown",
   "id": "d99c9462",
   "metadata": {},
   "source": [
    "### Sampling\n",
    "\n",
    "* There are instances where using the entire dataset is unfeasable or unpractical or costly\n",
    "\n",
    "* It's often possible to explore or work on a subset of the data and run only once, if needed, on the complete dataset.\n",
    "\n",
    "* Sampling is a process of selecting a subset of the instances in a dataset as a proxy for the whole. \n",
    "* In statistical terms, the original data set is known as the population, while the subset is known as a sample. \n",
    "\n",
    "* Sampling comes in several flavors.\n",
    "  * The most common form of sampling is uniform sampling\n",
    "  * Each element (item) of the population has an equal probability of being selected\n",
    "\n",
    "* Sampling produces a smaller representation of the data that can be processed more efficiently\n"
   ]
  },
  {
   "cell_type": "markdown",
   "id": "998c7a62",
   "metadata": {},
   "source": [
    "### Sampling\n",
    "\n",
    "![](https://www.dropbox.com/s/vzr0w2cvx6b5bm0/sampling.png?dl=1)\n",
    "\n"
   ]
  },
  {
   "cell_type": "markdown",
   "id": "47fc5d0b",
   "metadata": {},
   "source": [
    "### Representing observations\n",
    "\n",
    "* When working with data, a unit of observation, or simply observtion is the unit described by the data to be analyzed \n",
    "  * Observations are often referred to as data points (or simply points), or instances, or simply instances.\n",
    "    \n",
    "* Given a dataset with D-variables, an data point are often viewed as points in a D-dimensional Euclidean space\n",
    "  * Example, data with two variables is data in two dimensions.\n",
    "\n",
    "\n",
    "<img src=\"https://www.dropbox.com/s/t0ca5t1qzkr635b/2d-data.png?dl=1\" alt=\"Drawing\" width=\"700px;\"/>\n"
   ]
  },
  {
   "cell_type": "code",
   "execution_count": null,
   "id": "e9b6395a",
   "metadata": {},
   "outputs": [],
   "source": [
    "\n",
    "https://www.dropbox.com/s/sy00s9t8bq0wbxb/data_2d.png?dl=0"
   ]
  },
  {
   "cell_type": "markdown",
   "id": "3dcfaed9",
   "metadata": {},
   "source": [
    "### Sampling Strategies\n",
    "\n",
    "* Various ideas can be used for samples. \n",
    "  * Ex. by selecting the first half of the data and discard the second half\n",
    "    * Replace half by any fraction\n",
    "      * Clearly not a good idea, particularly if the data organized according to some attribute\n",
    "       * ex. first hals if males\n",
    "  * The above is a poor strateg becauses it uses something arbitrary\n",
    "\n",
    "* The following introduces a non-exhaustives list of sampling strategies commonly used to reduce the size of a dataset\n",
    "   * Those are used exclusively with tall data"
   ]
  },
  {
   "cell_type": "markdown",
   "id": "d8b10dfd",
   "metadata": {},
   "source": [
    "### Random Subsample\n",
    "\n",
    "* Takes in a list/collection and returns random sub-samples\n",
    "* each item has equal probability of being picked\n",
    "* Idea when data is:\n",
    "  * Balanced: relatively equal category proportions\n",
    "  * We don't care about missing edge cases"
   ]
  },
  {
   "cell_type": "markdown",
   "id": "3ff80728",
   "metadata": {},
   "source": [
    "### Subsampling \n",
    "\n",
    "* Ideally, we want to retain the structure of the dataset\n",
    "\n",
    "![](https://www.dropbox.com/s/ld7kps6aq47jq8p/airport_obs.png?dl=1)\n",
    "\n",
    "* Example, the objective is to carry out some analysis on a certain number of cities\n",
    "\n",
    "* Other examples?\n"
   ]
  },
  {
   "cell_type": "markdown",
   "id": "f6f23c43",
   "metadata": {},
   "source": [
    "### Stratified Random Sampling\n",
    "\n",
    "* The previous idea is referred to as a stratified random sampling\n",
    "  * Used when data can clearly be associated with a subgroup.  \n",
    "  * Ensures that the \"distribution\" of values for a particular feature within the sample matches the distribution of values for the same feature in the overall population. \n",
    "\n",
    "* Allows you to: \n",
    "    * maintain structure of the population\n",
    "\n",
    "\n",
    "![](https://www.dropbox.com/s/dq2wkc2l844857m/Screen%20Shot%202022-08-24%20at%204.19.11%20PM.png?dl=1)\n"
   ]
  },
  {
   "cell_type": "markdown",
   "id": "9eaa9217",
   "metadata": {},
   "source": [
    "### Stratified Random Sampling - Cont'd\n",
    "\n",
    "* Instances in the population are first divided into homogenous subgroups known as strata\n",
    "* The number of elements selected in each stratum is proportional to the size of the stratum\n",
    "  * Thus maintaining the structure\n"
   ]
  },
  {
   "cell_type": "markdown",
   "id": "f90a2aa5",
   "metadata": {},
   "source": [
    "### Subsampling \n",
    "\n",
    "* The previous approach requires that falls in predetermined strata\n",
    "\n",
    "* What if not strata information is readily avialable?\n",
    "\n",
    "* We could assign the data into possible artificial strata\n",
    "   * This is called clustering and will be covered later in the course\n",
    "   * Clustering identified clusters (lumps) of data where data points are very similar and where \n",
    "     * Idealy points are very dissimilar across clusters.\n",
    "\n",
    "\n",
    "\n"
   ]
  },
  {
   "cell_type": "markdown",
   "id": "6fdb48b7",
   "metadata": {},
   "source": [
    "### Representation of an Observation\n",
    "\n",
    "* Recall that a data points can be represented as a point in high-dimensional space\n",
    "\n",
    "<img src=\"https://www.dropbox.com/s/jbriqx9i7jyloyl/data_clusts_1.png?dl=1\" alt=\"drawing\" width=\"500\"/>\n",
    "\n",
    "\n"
   ]
  },
  {
   "cell_type": "markdown",
   "id": "276932a1",
   "metadata": {},
   "source": [
    "### Representation of an Observation\n",
    "\n",
    "* Identifying clusters\n",
    "\n",
    "<img src=\"https://www.dropbox.com/s/jb81jew9hyf44pp/data_clusts_2.png?dl=1\" alt=\"drawing\" width=\"500\"/>\n",
    "\n",
    "\n"
   ]
  },
  {
   "cell_type": "markdown",
   "id": "22c35872",
   "metadata": {},
   "source": [
    "### Representation of an Observation\n",
    "\n",
    "<img src=\"https://www.dropbox.com/s/lqbhe65hkmevsiz/data_clusts_3.png?dl=1\" alt=\"drawing\" width=\"500\"/>"
   ]
  },
  {
   "cell_type": "markdown",
   "id": "086822a3",
   "metadata": {},
   "source": [
    "### Representation of an Observation\n",
    "* Number of strata can be difficult to guess\n",
    "* Big data can contain noisy observations and outliers that can affect the algorithm\n",
    "* Can result in loss of cluster shape\n",
    "    * may make further data analysis complex (e.g.: hard to cluster)\n",
    "\n"
   ]
  },
  {
   "cell_type": "markdown",
   "id": "9f32206c",
   "metadata": {},
   "source": [
    "### Importance Sampling Based on a Kernel\n",
    "\n",
    "* Select with probility inversely proportional to to cluster center\n",
    "\n",
    "<img src=\"https://www.dropbox.com/s/ncrusv71mylkat8/dist_to_center.png?dl=1\" alt=\"drawing\" width=\"500\"/>\n"
   ]
  },
  {
   "cell_type": "markdown",
   "id": "6ab2bee4",
   "metadata": {},
   "source": [
    "### Representation of an Observation\n",
    "\n",
    "<img src=\"https://www.dropbox.com/s/bkd32khr1q8dfhx/before_after.png?dl=1\" alt=\"drawing\" width=\"500\"/>\n"
   ]
  },
  {
   "cell_type": "markdown",
   "id": "f3b660bf",
   "metadata": {},
   "source": [
    "### Weighted Density Sampling\n",
    "\n",
    "* Weighted Density sampling is a method to discard events based on their local density. \n",
    "\n",
    "* The probability that a data point will be sampled is based on the local density around that data point.\n",
    "\n",
    "* The local density of a data point is defined as the number of data points within a certain radius around it. \n",
    "\n",
    "  * The radius used is often a user-defined parameter  \n",
    "\n",
    "* Some memory efficient algorithm can approximate the local density using a single scan of the data"
   ]
  },
  {
   "cell_type": "code",
   "execution_count": 7,
   "id": "41e276b5",
   "metadata": {},
   "outputs": [],
   "source": [
    "### Weighted Density Sampling - Cont'd\n",
    "\n",
    "\n",
    "\n",
    "\n"
   ]
  },
  {
   "cell_type": "markdown",
   "id": "d3dcf7ba",
   "metadata": {},
   "source": [
    "### Hash Based Sampling\n",
    "* Hash the data into grid cells and select a fixed number of points per cell\n",
    "![](https://www.dropbox.com/s/nijshpr93rth8fn/grid.png?dl=1)"
   ]
  },
  {
   "cell_type": "markdown",
   "id": "ff3cb29a",
   "metadata": {},
   "source": [
    "### Time Series\n",
    "\n",
    "* A time series is collection of data points indexed in a time order. \n",
    "* Time Series represent a lot of available big data sets\n",
    "\n"
   ]
  },
  {
   "cell_type": "markdown",
   "id": "13d4b844",
   "metadata": {},
   "source": [
    "### Sampling from Time Series\n",
    "\n",
    "* Some commonly used strategies\n",
    "  * Random: select every x (random) time point\n",
    "  * Subsample ever k records\n",
    "  * Splits time series data into sections or \"buckets\", then takes equal samples from each bucket.\n",
    "    * bucket is hourly or daily, for example\n",
    "  * Use a sliding windown\n",
    "    * points have probability of getting selected\n",
    "    * Select point randomly using distance from the mean in the window"
   ]
  },
  {
   "cell_type": "code",
   "execution_count": null,
   "id": "f20ac044",
   "metadata": {},
   "outputs": [],
   "source": [
    "### Conclusion\n",
    "\n",
    "* Various"
   ]
  }
 ],
 "metadata": {
  "kernelspec": {
   "display_name": "Python 3 (ipykernel)",
   "language": "python",
   "name": "python3"
  },
  "language_info": {
   "codemirror_mode": {
    "name": "ipython",
    "version": 3
   },
   "file_extension": ".py",
   "mimetype": "text/x-python",
   "name": "python",
   "nbconvert_exporter": "python",
   "pygments_lexer": "ipython3",
   "version": "3.8.13"
  }
 },
 "nbformat": 4,
 "nbformat_minor": 5
}
